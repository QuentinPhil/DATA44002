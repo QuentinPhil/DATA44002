{
  "nbformat": 4,
  "nbformat_minor": 0,
  "metadata": {
    "colab": {
      "provenance": []
    },
    "kernelspec": {
      "name": "python3",
      "display_name": "Python 3"
    },
    "language_info": {
      "name": "python"
    }
  },
  "cells": [
    {
      "cell_type": "markdown",
      "source": [
        "# HW4 - Friends of Friends\n",
        "### Quentin Phillips\n",
        "### DATA 440-02\n",
        "### 11/1/23\n",
        "\n",
        "# Q1: Stats\n",
        "First I added the user to the data as having 98 friends in order to compare the user to the rest of the data.\n",
        "\n",
        "Mean: I sorted the values in a column by friends and then calculated the mean to be 538.13\n",
        "Standard Dev: I used the STDEV function in excel to find the standard deviation at 538.53\n",
        "Median: The median value was simple to find after sorting. The median of the data set is 395\n",
        "\n",
        "# Q2: Friendship Paradox\n",
        "\n",
        "The friendship paradox does hold for this data. The mean and median are both significantly higher than the users data.\n",
        "\n",
        "Here is the graph of the data points with the user highlighted in orange:\n",
        "\n",
        "(https://github.com/QuentinPhil/DATA44002/blob/main/HW4/Friends%20by%20Friend%20Count.png)\n",
        "\n"
      ],
      "metadata": {
        "id": "HC2-osXvyQ3d"
      }
    },
    {
      "cell_type": "code",
      "source": [],
      "metadata": {
        "id": "9QWwhjFbyRjf"
      },
      "execution_count": null,
      "outputs": []
    }
  ]
}
