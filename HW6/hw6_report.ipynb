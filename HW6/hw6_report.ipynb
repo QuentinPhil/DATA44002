{
  "nbformat": 4,
  "nbformat_minor": 0,
  "metadata": {
    "colab": {
      "provenance": []
    },
    "kernelspec": {
      "name": "python3",
      "display_name": "Python 3"
    },
    "language_info": {
      "name": "python"
    }
  },
  "cells": [
    {
      "cell_type": "markdown",
      "source": [
        "# HW5 - Good Twitter Bot\n",
        "### Quentin Phillips\n",
        "### DATA 440 Fall 2023\n",
        "### 11/21/23\n",
        "\n",
        "# Description and Explanation of Usefulness\n",
        "\n",
        "#### Below is the code I used to run the bot.\n",
        "\n",
        "#### The X bot I made releases information about the newest weekly release of the Jujutsu Kaisen manga online. Because posts all over the internet begin spoiling the content of the new chapters shortly after they release, it is very important for readers to remain up to date as chapters come out to avoid having the rapidly developing plot spoiled. The bot is timed to post weekly as new chapters come out with a link to the chapter and the first few sentences of that weeks blurb. It also updates automatically, so that it will post about the correct updated chapter each time. Anyone who wants a reminder about the chapter as well as easy access to it can follow this bot, and be reminded every time a new chapter is posted.\n",
        "\n",
        "#### The bot runs off of the scrape_twitter_v2.py file and uses pip install to download beautifulsoup, requests, and nltk.\n",
        "\n",
        "#### This twitter bot contains all of the necessary information and does not spoil the endings of each chapter. It also contains no images from the chapter that may spoil readers who are not caught up."
      ],
      "metadata": {
        "id": "Us6ergXbmn9T"
      }
    },
    {
      "cell_type": "code",
      "execution_count": 1,
      "metadata": {
        "id": "JurpXBlhkHJQ",
        "colab": {
          "base_uri": "https://localhost:8080/",
          "height": 419
        },
        "outputId": "2bd0238d-86c4-4bec-d2d9-1db2d78ad29c"
      },
      "outputs": [
        {
          "output_type": "stream",
          "name": "stderr",
          "text": [
            "[nltk_data] Downloading package punkt to /root/nltk_data...\n",
            "[nltk_data]   Unzipping tokenizers/punkt.zip.\n"
          ]
        },
        {
          "output_type": "error",
          "ename": "ModuleNotFoundError",
          "evalue": "ignored",
          "traceback": [
            "\u001b[0;31m---------------------------------------------------------------------------\u001b[0m",
            "\u001b[0;31mModuleNotFoundError\u001b[0m                       Traceback (most recent call last)",
            "\u001b[0;32m<ipython-input-1-780643c29b11>\u001b[0m in \u001b[0;36m<cell line: 29>\u001b[0;34m()\u001b[0m\n\u001b[1;32m     27\u001b[0m \u001b[0;34m\u001b[0m\u001b[0m\n\u001b[1;32m     28\u001b[0m \u001b[0;34m\u001b[0m\u001b[0m\n\u001b[0;32m---> 29\u001b[0;31m \u001b[0;32mfrom\u001b[0m \u001b[0mplaywright\u001b[0m\u001b[0;34m.\u001b[0m\u001b[0msync_api\u001b[0m \u001b[0;32mimport\u001b[0m \u001b[0msync_playwright\u001b[0m\u001b[0;34m\u001b[0m\u001b[0;34m\u001b[0m\u001b[0m\n\u001b[0m\u001b[1;32m     30\u001b[0m \u001b[0;32mfrom\u001b[0m \u001b[0mscrape_twitter_v2\u001b[0m \u001b[0;32mimport\u001b[0m \u001b[0mget_auth_twitter_pg\u001b[0m\u001b[0;34m\u001b[0m\u001b[0;34m\u001b[0m\u001b[0m\n\u001b[1;32m     31\u001b[0m \u001b[0;32mfrom\u001b[0m \u001b[0mscrape_twitter_v2\u001b[0m \u001b[0;32mimport\u001b[0m \u001b[0mpost_tweet\u001b[0m\u001b[0;34m\u001b[0m\u001b[0;34m\u001b[0m\u001b[0m\n",
            "\u001b[0;31mModuleNotFoundError\u001b[0m: No module named 'playwright'",
            "",
            "\u001b[0;31m---------------------------------------------------------------------------\u001b[0;32m\nNOTE: If your import is failing due to a missing package, you can\nmanually install dependencies using either !pip or !apt.\n\nTo view examples of installing some common dependencies, click the\n\"Open Examples\" button below.\n\u001b[0;31m---------------------------------------------------------------------------\u001b[0m\n"
          ],
          "errorDetails": {
            "actions": [
              {
                "action": "open_url",
                "actionText": "Open Examples",
                "url": "/notebooks/snippets/importing_libraries.ipynb"
              }
            ]
          }
        }
      ],
      "source": [
        "import gzip\n",
        "import json\n",
        "import requests\n",
        "from bs4 import BeautifulSoup\n",
        "import nltk\n",
        "nltk.download('punkt')\n",
        "\n",
        "#Twitter Bot Poster\n",
        "\n",
        "chap_num = 243\n",
        "url = \"https://www.viz.com/shonenjump/jujutsu-kaisen-chapter-\"+ str(chap_num)+ \"/chapter/40995?action=read\"\n",
        "def get_chap_synopsis(url):\n",
        "    response = requests.get(url)\n",
        "\n",
        "    if response.status_code == 200:\n",
        "        soup = BeautifulSoup(response.text, 'html.parser')\n",
        "        text = soup.get_text()\n",
        "        words = nltk.word_tokenize(text)\n",
        "        first_50_words = ' '.join(words[:50])\n",
        "\n",
        "        return first_50_words\n",
        "    else:\n",
        "        return \"Failed to fetch website content.\"\n",
        "\n",
        "\n",
        "msg = \"New JJK Chapter out NOW! Read Chapter\" + str(chap_num) + \"at the following link\" + \"https://www.viz.com/shonenjump/chapters/jujutsu-kaisen\" + \"            chapter summary: \"+ str(get_chap_synopsis)\n",
        "\n",
        "\n",
        "from playwright.sync_api import sync_playwright\n",
        "from scrape_twitter_v2 import get_auth_twitter_pg\n",
        "from scrape_twitter_v2 import post_tweet\n",
        "\n",
        "with sync_playwright() as playwright:\n",
        "\n",
        "    browser_dets = get_auth_twitter_pg(playwright)\n",
        "    if( len(browser_dets) != 0 ):\n",
        "\n",
        "        post_tweet(browser_dets, msg, after_post_sleep = 604800)\n",
        "        chap_num += 1\n"
      ]
    },
    {
      "cell_type": "code",
      "source": [],
      "metadata": {
        "id": "gznH1j3DfzDi"
      },
      "execution_count": null,
      "outputs": []
    }
  ]
}